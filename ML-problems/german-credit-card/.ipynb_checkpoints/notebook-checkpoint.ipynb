{
 "cells": [
  {
   "cell_type": "markdown",
   "metadata": {
    "_cell_guid": "96611c58-d3d2-4fdb-849a-54b0cd5c72e1",
    "_uuid": "7f1516708a5b791610a2eeae594c5b2f25d55ac3"
   },
   "source": [
    "<h3>- Note that I will use the Dataset with the Risk column </h3>"
   ]
  },
  {
   "cell_type": "markdown",
   "metadata": {
    "_cell_guid": "7d0ff485-f6eb-45d5-a138-2f1d640f4208",
    "_uuid": "54ffb8214adb51a4145611f2780082d3bab807e8"
   },
   "source": [
    "<h2>Context</h2>\n",
    "The original dataset contains 1000 entries with 20 categorial/symbolic attributes prepared by Prof. Hofmann. In this dataset, each entry represents a person who takes a credit by a bank. Each person is classified as good or bad credit risks according to the set of attributes. The link to the original dataset can be found below.\n",
    "\n",
    "<h2>Content</h2>\n",
    "It is almost impossible to understand the original dataset due to its complicated system of categories and symbols. Thus, I wrote a small Python script to convert it into a readable CSV file. Several columns are simply ignored, because in my opinion either they are not important or their descriptions are obscure. The selected attributes are:\n",
    "\n",
    "<b>Age </b>(numeric)<br>\n",
    "<b>Sex </b>(text: male, female)<br>\n",
    "<b>Job </b>(numeric: 0 - unskilled and non-resident, 1 - unskilled and resident, 2 - skilled, 3 - highly skilled)<br>\n",
    "<b>Housing</b> (text: own, rent, or free)<br>\n",
    "<b>Saving accounts</b> (text - little, moderate, quite rich, rich)<br>\n",
    "<b>Checking account </b>(numeric, in DM - Deutsch Mark)<br>\n",
    "<b>Credit amount</b> (numeric, in DM)<br>\n",
    "<b>Duration</b> (numeric, in month)<br>\n",
    "<b>Purpose</b>(text: car, furniture/equipment, radio/TV, domestic appliances, repairs, education, business, vacation/others<br>\n",
    "<b>Risk </b> (Value target - Good or Bad Risk)<br>"
   ]
  },
  {
   "cell_type": "markdown",
   "metadata": {
    "_cell_guid": "c136699c-701b-445f-8522-8ff3f1461b92",
    "_uuid": "cdb97612a0a3756be77c572ee938b42401b54284"
   },
   "source": [
    "Please give me your feedback and if you like votes up to keep me motivated. "
   ]
  },
  {
   "cell_type": "code",
   "execution_count": 1,
   "metadata": {
    "_cell_guid": "98e8c140-b331-4a2e-98a1-aa76dd1ae9c3",
    "_uuid": "ebb00fd08333f52902981f381d94492ec2819bfd"
   },
   "outputs": [
    {
     "ename": "FileNotFoundError",
     "evalue": "File b'../input/german-credit-data-with-risk/german_credit_data.csv' does not exist",
     "output_type": "error",
     "traceback": [
      "\u001b[0;31m---------------------------------------------------------------------------\u001b[0m",
      "\u001b[0;31mFileNotFoundError\u001b[0m                         Traceback (most recent call last)",
      "\u001b[0;32m<ipython-input-1-42f734a00a4a>\u001b[0m in \u001b[0;36m<module>\u001b[0;34m()\u001b[0m\n\u001b[1;32m     11\u001b[0m \u001b[0mrcParams\u001b[0m\u001b[0;34m[\u001b[0m\u001b[0;34m'figure.figsize'\u001b[0m\u001b[0;34m]\u001b[0m \u001b[0;34m=\u001b[0m \u001b[0;36m8\u001b[0m\u001b[0;34m,\u001b[0m\u001b[0;36m6\u001b[0m\u001b[0;34m\u001b[0m\u001b[0m\n\u001b[1;32m     12\u001b[0m \u001b[0;34m\u001b[0m\u001b[0m\n\u001b[0;32m---> 13\u001b[0;31m \u001b[0mdf_credit\u001b[0m \u001b[0;34m=\u001b[0m \u001b[0mpd\u001b[0m\u001b[0;34m.\u001b[0m\u001b[0mread_csv\u001b[0m\u001b[0;34m(\u001b[0m\u001b[0;34m\"../input/german-credit-data-with-risk/german_credit_data.csv\"\u001b[0m\u001b[0;34m,\u001b[0m\u001b[0mindex_col\u001b[0m\u001b[0;34m=\u001b[0m\u001b[0;36m0\u001b[0m\u001b[0;34m)\u001b[0m\u001b[0;34m\u001b[0m\u001b[0m\n\u001b[0m",
      "\u001b[0;32m~/anaconda3/lib/python3.6/site-packages/pandas/io/parsers.py\u001b[0m in \u001b[0;36mparser_f\u001b[0;34m(filepath_or_buffer, sep, delimiter, header, names, index_col, usecols, squeeze, prefix, mangle_dupe_cols, dtype, engine, converters, true_values, false_values, skipinitialspace, skiprows, nrows, na_values, keep_default_na, na_filter, verbose, skip_blank_lines, parse_dates, infer_datetime_format, keep_date_col, date_parser, dayfirst, iterator, chunksize, compression, thousands, decimal, lineterminator, quotechar, quoting, escapechar, comment, encoding, dialect, tupleize_cols, error_bad_lines, warn_bad_lines, skipfooter, skip_footer, doublequote, delim_whitespace, as_recarray, compact_ints, use_unsigned, low_memory, buffer_lines, memory_map, float_precision)\u001b[0m\n\u001b[1;32m    653\u001b[0m                     skip_blank_lines=skip_blank_lines)\n\u001b[1;32m    654\u001b[0m \u001b[0;34m\u001b[0m\u001b[0m\n\u001b[0;32m--> 655\u001b[0;31m         \u001b[0;32mreturn\u001b[0m \u001b[0m_read\u001b[0m\u001b[0;34m(\u001b[0m\u001b[0mfilepath_or_buffer\u001b[0m\u001b[0;34m,\u001b[0m \u001b[0mkwds\u001b[0m\u001b[0;34m)\u001b[0m\u001b[0;34m\u001b[0m\u001b[0m\n\u001b[0m\u001b[1;32m    656\u001b[0m \u001b[0;34m\u001b[0m\u001b[0m\n\u001b[1;32m    657\u001b[0m     \u001b[0mparser_f\u001b[0m\u001b[0;34m.\u001b[0m\u001b[0m__name__\u001b[0m \u001b[0;34m=\u001b[0m \u001b[0mname\u001b[0m\u001b[0;34m\u001b[0m\u001b[0m\n",
      "\u001b[0;32m~/anaconda3/lib/python3.6/site-packages/pandas/io/parsers.py\u001b[0m in \u001b[0;36m_read\u001b[0;34m(filepath_or_buffer, kwds)\u001b[0m\n\u001b[1;32m    403\u001b[0m \u001b[0;34m\u001b[0m\u001b[0m\n\u001b[1;32m    404\u001b[0m     \u001b[0;31m# Create the parser.\u001b[0m\u001b[0;34m\u001b[0m\u001b[0;34m\u001b[0m\u001b[0m\n\u001b[0;32m--> 405\u001b[0;31m     \u001b[0mparser\u001b[0m \u001b[0;34m=\u001b[0m \u001b[0mTextFileReader\u001b[0m\u001b[0;34m(\u001b[0m\u001b[0mfilepath_or_buffer\u001b[0m\u001b[0;34m,\u001b[0m \u001b[0;34m**\u001b[0m\u001b[0mkwds\u001b[0m\u001b[0;34m)\u001b[0m\u001b[0;34m\u001b[0m\u001b[0m\n\u001b[0m\u001b[1;32m    406\u001b[0m \u001b[0;34m\u001b[0m\u001b[0m\n\u001b[1;32m    407\u001b[0m     \u001b[0;32mif\u001b[0m \u001b[0mchunksize\u001b[0m \u001b[0;32mor\u001b[0m \u001b[0miterator\u001b[0m\u001b[0;34m:\u001b[0m\u001b[0;34m\u001b[0m\u001b[0m\n",
      "\u001b[0;32m~/anaconda3/lib/python3.6/site-packages/pandas/io/parsers.py\u001b[0m in \u001b[0;36m__init__\u001b[0;34m(self, f, engine, **kwds)\u001b[0m\n\u001b[1;32m    762\u001b[0m             \u001b[0mself\u001b[0m\u001b[0;34m.\u001b[0m\u001b[0moptions\u001b[0m\u001b[0;34m[\u001b[0m\u001b[0;34m'has_index_names'\u001b[0m\u001b[0;34m]\u001b[0m \u001b[0;34m=\u001b[0m \u001b[0mkwds\u001b[0m\u001b[0;34m[\u001b[0m\u001b[0;34m'has_index_names'\u001b[0m\u001b[0;34m]\u001b[0m\u001b[0;34m\u001b[0m\u001b[0m\n\u001b[1;32m    763\u001b[0m \u001b[0;34m\u001b[0m\u001b[0m\n\u001b[0;32m--> 764\u001b[0;31m         \u001b[0mself\u001b[0m\u001b[0;34m.\u001b[0m\u001b[0m_make_engine\u001b[0m\u001b[0;34m(\u001b[0m\u001b[0mself\u001b[0m\u001b[0;34m.\u001b[0m\u001b[0mengine\u001b[0m\u001b[0;34m)\u001b[0m\u001b[0;34m\u001b[0m\u001b[0m\n\u001b[0m\u001b[1;32m    765\u001b[0m \u001b[0;34m\u001b[0m\u001b[0m\n\u001b[1;32m    766\u001b[0m     \u001b[0;32mdef\u001b[0m \u001b[0mclose\u001b[0m\u001b[0;34m(\u001b[0m\u001b[0mself\u001b[0m\u001b[0;34m)\u001b[0m\u001b[0;34m:\u001b[0m\u001b[0;34m\u001b[0m\u001b[0m\n",
      "\u001b[0;32m~/anaconda3/lib/python3.6/site-packages/pandas/io/parsers.py\u001b[0m in \u001b[0;36m_make_engine\u001b[0;34m(self, engine)\u001b[0m\n\u001b[1;32m    983\u001b[0m     \u001b[0;32mdef\u001b[0m \u001b[0m_make_engine\u001b[0m\u001b[0;34m(\u001b[0m\u001b[0mself\u001b[0m\u001b[0;34m,\u001b[0m \u001b[0mengine\u001b[0m\u001b[0;34m=\u001b[0m\u001b[0;34m'c'\u001b[0m\u001b[0;34m)\u001b[0m\u001b[0;34m:\u001b[0m\u001b[0;34m\u001b[0m\u001b[0m\n\u001b[1;32m    984\u001b[0m         \u001b[0;32mif\u001b[0m \u001b[0mengine\u001b[0m \u001b[0;34m==\u001b[0m \u001b[0;34m'c'\u001b[0m\u001b[0;34m:\u001b[0m\u001b[0;34m\u001b[0m\u001b[0m\n\u001b[0;32m--> 985\u001b[0;31m             \u001b[0mself\u001b[0m\u001b[0;34m.\u001b[0m\u001b[0m_engine\u001b[0m \u001b[0;34m=\u001b[0m \u001b[0mCParserWrapper\u001b[0m\u001b[0;34m(\u001b[0m\u001b[0mself\u001b[0m\u001b[0;34m.\u001b[0m\u001b[0mf\u001b[0m\u001b[0;34m,\u001b[0m \u001b[0;34m**\u001b[0m\u001b[0mself\u001b[0m\u001b[0;34m.\u001b[0m\u001b[0moptions\u001b[0m\u001b[0;34m)\u001b[0m\u001b[0;34m\u001b[0m\u001b[0m\n\u001b[0m\u001b[1;32m    986\u001b[0m         \u001b[0;32melse\u001b[0m\u001b[0;34m:\u001b[0m\u001b[0;34m\u001b[0m\u001b[0m\n\u001b[1;32m    987\u001b[0m             \u001b[0;32mif\u001b[0m \u001b[0mengine\u001b[0m \u001b[0;34m==\u001b[0m \u001b[0;34m'python'\u001b[0m\u001b[0;34m:\u001b[0m\u001b[0;34m\u001b[0m\u001b[0m\n",
      "\u001b[0;32m~/anaconda3/lib/python3.6/site-packages/pandas/io/parsers.py\u001b[0m in \u001b[0;36m__init__\u001b[0;34m(self, src, **kwds)\u001b[0m\n\u001b[1;32m   1603\u001b[0m         \u001b[0mkwds\u001b[0m\u001b[0;34m[\u001b[0m\u001b[0;34m'allow_leading_cols'\u001b[0m\u001b[0;34m]\u001b[0m \u001b[0;34m=\u001b[0m \u001b[0mself\u001b[0m\u001b[0;34m.\u001b[0m\u001b[0mindex_col\u001b[0m \u001b[0;32mis\u001b[0m \u001b[0;32mnot\u001b[0m \u001b[0;32mFalse\u001b[0m\u001b[0;34m\u001b[0m\u001b[0m\n\u001b[1;32m   1604\u001b[0m \u001b[0;34m\u001b[0m\u001b[0m\n\u001b[0;32m-> 1605\u001b[0;31m         \u001b[0mself\u001b[0m\u001b[0;34m.\u001b[0m\u001b[0m_reader\u001b[0m \u001b[0;34m=\u001b[0m \u001b[0mparsers\u001b[0m\u001b[0;34m.\u001b[0m\u001b[0mTextReader\u001b[0m\u001b[0;34m(\u001b[0m\u001b[0msrc\u001b[0m\u001b[0;34m,\u001b[0m \u001b[0;34m**\u001b[0m\u001b[0mkwds\u001b[0m\u001b[0;34m)\u001b[0m\u001b[0;34m\u001b[0m\u001b[0m\n\u001b[0m\u001b[1;32m   1606\u001b[0m \u001b[0;34m\u001b[0m\u001b[0m\n\u001b[1;32m   1607\u001b[0m         \u001b[0;31m# XXX\u001b[0m\u001b[0;34m\u001b[0m\u001b[0;34m\u001b[0m\u001b[0m\n",
      "\u001b[0;32mpandas/_libs/parsers.pyx\u001b[0m in \u001b[0;36mpandas._libs.parsers.TextReader.__cinit__ (pandas/_libs/parsers.c:4209)\u001b[0;34m()\u001b[0m\n",
      "\u001b[0;32mpandas/_libs/parsers.pyx\u001b[0m in \u001b[0;36mpandas._libs.parsers.TextReader._setup_parser_source (pandas/_libs/parsers.c:8873)\u001b[0;34m()\u001b[0m\n",
      "\u001b[0;31mFileNotFoundError\u001b[0m: File b'../input/german-credit-data-with-risk/german_credit_data.csv' does not exist"
     ]
    }
   ],
   "source": [
    "#Load the librarys\n",
    "import pandas as pd\n",
    "import numpy as np\n",
    "import seaborn as sns\n",
    "import matplotlib.pyplot as plt\n",
    "from matplotlib import rcParams\n",
    "\n",
    "%matplotlib inline\n",
    "\n",
    "# figure size in inches\n",
    "rcParams['figure.figsize'] = 8,6\n",
    "\n",
    "df_credit = pd.read_csv(\"../input/german-credit-data-with-risk/german_credit_data.csv\",index_col=0)"
   ]
  },
  {
   "cell_type": "code",
   "execution_count": null,
   "metadata": {
    "_cell_guid": "81649261-de36-4f16-9816-643d90d3d2aa",
    "_uuid": "017a2be77ff92841897d9b25e898927e641b90fb",
    "collapsed": true
   },
   "outputs": [],
   "source": [
    "#Searching for Missings,type of data and also known the shape of data\n",
    "print(df_credit.info())"
   ]
  },
  {
   "cell_type": "code",
   "execution_count": null,
   "metadata": {
    "_cell_guid": "379c0593-dbc5-4523-b130-8a7ee71bce5b",
    "_uuid": "3e45297ce0530246c288cb8ab64378b639246f6b",
    "collapsed": true
   },
   "outputs": [],
   "source": [
    "#Looking unique values\n",
    "print(df_credit.nunique())\n",
    "#Looking the data\n",
    "print(df_credit.head())"
   ]
  },
  {
   "cell_type": "markdown",
   "metadata": {
    "_cell_guid": "2c1da4dc-39d6-4f4a-9a3d-c7c31ddb5e57",
    "_uuid": "06a3ac5f2cc47753350a7d3dd8ad92873f03b16b"
   },
   "source": [
    "I will start by column Age.\n",
    "\n"
   ]
  },
  {
   "cell_type": "code",
   "execution_count": null,
   "metadata": {
    "_cell_guid": "5b7bff50-2d21-400d-919a-49acdc6bcd14",
    "_uuid": "4a4939e2f985c12c80de727c9e3e24081f57ace8",
    "collapsed": true
   },
   "outputs": [],
   "source": [
    "fig, ax =plt.subplots(2,1, figsize=(12,8))\n",
    "sns.distplot(df_credit[\"Age\"], ax=ax[0])\n",
    "sns.countplot(x=\"Age\", data=df_credit, palette=\"hls\", ax=ax[1], hue = \"Risk\")\n",
    "plt.show()"
   ]
  },
  {
   "cell_type": "code",
   "execution_count": null,
   "metadata": {
    "_cell_guid": "77674108-1042-4a9d-8820-decd3f4c04f6",
    "_uuid": "e834b43cb46b510ca9d352297620e92b3f0f6db7",
    "collapsed": true
   },
   "outputs": [],
   "source": [
    "#Let's look the Credit Amount column\n",
    "interval = (18, 25, 35, 60, 120)\n",
    "\n",
    "cats = ['Student', 'Young', 'Adult', 'Senior']\n",
    "df_credit[\"Age_cat\"] = pd.cut(df_credit.Age, interval, labels=cats)\n",
    "\n",
    "ax = sns.factorplot(x=\"Age_cat\", y=\"Credit amount\", data=df_credit, kind=\"box\",size=5, aspect=2,hue=\"Risk\",palette='hls')\n",
    "ax.set(xlabel='Age Categorical', ylabel='Credit Amount(U$)',title=\"Age Categorical x Credit Amount Separeted by Risk groups\")\n",
    "plt.show()"
   ]
  },
  {
   "cell_type": "markdown",
   "metadata": {
    "_cell_guid": "f30567d8-9826-4495-a735-e78f965b84cc",
    "_uuid": "16f8057c98761549f15c336976063b94e46843db"
   },
   "source": [
    "Interesting. "
   ]
  },
  {
   "cell_type": "markdown",
   "metadata": {
    "_cell_guid": "39066b14-b573-4254-bc61-8b265e7bae5f",
    "_uuid": "a5e8088cd21325c077fe92b68246add9cc7aeb7f"
   },
   "source": [
    "I will now Look the distribuition of Housing own and rent by Risk\n"
   ]
  },
  {
   "cell_type": "code",
   "execution_count": null,
   "metadata": {
    "_cell_guid": "f04d566c-92f3-4745-84e8-63b87e6c4b4c",
    "_uuid": "e0b8b82f2090041fa13102caf82293e3e5bd015a",
    "collapsed": true
   },
   "outputs": [],
   "source": [
    "ax = sns.countplot(x=\"Housing\", data=df_credit, palette=\"hls\", hue = \"Risk\")\n",
    "ax.set(xlabel='Housing Categories', ylabel='Count',title=\"Housing Count\")\n",
    "plt.show()"
   ]
  },
  {
   "cell_type": "markdown",
   "metadata": {
    "_cell_guid": "85a1de27-ac07-4317-b2cb-f0ef0fc50263",
    "_uuid": "f0bbbfef78b2172aed6eec91a0082fb24a6b6652"
   },
   "source": [
    "we can see that the own and good risk have a high correlation"
   ]
  },
  {
   "cell_type": "code",
   "execution_count": null,
   "metadata": {
    "_cell_guid": "a6e063a0-fab7-4246-9e4f-33a966c24db0",
    "_uuid": "87a64d1c8e808ebc779870036b9c5242be1dd838",
    "collapsed": true
   },
   "outputs": [],
   "source": [
    "ax = sns.factorplot(x=\"Housing\", y=\"Credit amount\", data=df_credit, \\\n",
    "               palette=\"hls\", hue = \"Risk\",kind=\"violin\",size=4,aspect=2,split=True)\n",
    "ax.set(xlabel=\"Housing\",ylabel=\"Credit Amount(U$)\",title=\"Housing by Credit Amount\")\n",
    "plt.show()"
   ]
  },
  {
   "cell_type": "markdown",
   "metadata": {
    "_cell_guid": "c4b74894-53b4-4a93-83e1-761d3c7feb3a",
    "_uuid": "1cfb55b3552be9e7dd67de9ed24c72af973cbe4b"
   },
   "source": [
    "Interesting moviments! Highest values come from category \"free\" and we have a different distribuition by Risk"
   ]
  },
  {
   "cell_type": "markdown",
   "metadata": {
    "_cell_guid": "bb043f80-4948-476b-a9ed-4d5850a08c2e",
    "_uuid": "a4b29db97c9da81196b5ef63dae3bc7dd5c18c48"
   },
   "source": [
    "Looking the diference by Sex"
   ]
  },
  {
   "cell_type": "code",
   "execution_count": null,
   "metadata": {
    "_cell_guid": "be4c6440-bdf4-4051-acef-f6db9c43c7de",
    "_uuid": "7baf9501935c7ff1eee9cf519cea74ab3e858f98",
    "collapsed": true
   },
   "outputs": [],
   "source": [
    "print(\"Total difference by Sex: \")\n",
    "print(df_credit.groupby(\"Sex\")[\"Sex\"].count())\n",
    "sns.countplot(x=\"Sex\", data=df_credit, palette=\"hls\", hue = \"Risk\")\n",
    "plt.show()"
   ]
  },
  {
   "cell_type": "code",
   "execution_count": null,
   "metadata": {
    "_cell_guid": "61df35f6-b90a-4c71-bd48-ab2724b4a777",
    "_uuid": "575dbd96be9d1309ef53f78ff3ca39bce007e5f8",
    "collapsed": true
   },
   "outputs": [],
   "source": [
    "#Looking the Sex by Credit Amount\n",
    "ax = sns.factorplot(x=\"Sex\",y=\"Credit amount\",data=df_credit,kind=\"violin\",\\\n",
    "                    palette=\"hls\",size=6,hue=\"Risk\",split=True)\n",
    "ax.set(title=\"Amount by Sex\")\n",
    "plt.show()"
   ]
  },
  {
   "cell_type": "markdown",
   "metadata": {
    "_cell_guid": "b8cf27c8-2170-401f-839d-a732108933e4",
    "_uuid": "f5a6c2dea040a31289910da2ae36c296559d5997"
   },
   "source": [
    "I will create categories of Age and look the distribuition of Credit Amount by Risk...\n"
   ]
  },
  {
   "cell_type": "markdown",
   "metadata": {
    "_cell_guid": "76dfaeb3-39ac-4777-8966-b854d2a66fdb",
    "_uuid": "8345789033140b6b9f9f5a40ba8fd5426ee823e4"
   },
   "source": [
    "I will do some explorations through the Job\n",
    "- distribuition\n",
    "- Crossed by Credit amount\n",
    "- Crossed by Age"
   ]
  },
  {
   "cell_type": "code",
   "execution_count": null,
   "metadata": {
    "_cell_guid": "041709ef-5168-473d-ab55-d95644bfc07f",
    "_uuid": "ead3fef545ee735a5a17bb57bc432a9b0fec93f7",
    "collapsed": true
   },
   "outputs": [],
   "source": [
    "fig, ax = plt.subplots(figsize=(12,12),nrows=3)\n",
    "sns.countplot(x=\"Job\", data=df_credit, palette=\"hls\", hue=\"Risk\", ax=ax[0])\n",
    "sns.boxplot(x=\"Job\", y=\"Credit amount\", data=df_credit, palette=\"hls\", ax=ax[1], hue=\"Risk\")\n",
    "sns.violinplot(x=\"Job\", y=\"Age\", data=df_credit, ax=ax[2],  hue=\"Risk\", split=True, palette=\"hls\")\n",
    "plt.show()"
   ]
  },
  {
   "cell_type": "markdown",
   "metadata": {
    "_cell_guid": "5ddc12f0-61c9-46fd-9ac5-72054b7e65b3",
    "_uuid": "c120123985f2f09dbab5d1be70e400ca55fe5b15"
   },
   "source": [
    "Looking the distribuition of Credit Amont"
   ]
  },
  {
   "cell_type": "code",
   "execution_count": null,
   "metadata": {
    "_cell_guid": "26b0bcb6-00f8-4116-85f5-7b26605b20d8",
    "_uuid": "0e46f1f9d464c0223e45a7c089b0abd552965ef7",
    "collapsed": true
   },
   "outputs": [],
   "source": [
    "sns.distplot(df_credit[\"Credit amount\"])\n",
    "plt.show()"
   ]
  },
  {
   "cell_type": "markdown",
   "metadata": {
    "_cell_guid": "7c43a4cd-cf0a-433c-9549-ee4edc46b8a9",
    "_uuid": "f50b556b07c699f82314235d23a912fcc9a93371"
   },
   "source": [
    "Distruibution of Saving accounts by Risk"
   ]
  },
  {
   "cell_type": "code",
   "execution_count": null,
   "metadata": {
    "_cell_guid": "da93f329-0d94-40bf-a7c7-1ba111177a69",
    "_uuid": "725a327525000b8951bba1ba36f0611c92e95c9e",
    "collapsed": true
   },
   "outputs": [],
   "source": [
    "print(\"Description of Distribuition Saving accounts by Risk:  \")\n",
    "print(pd.crosstab(df_credit[\"Saving accounts\"],df_credit.Risk))\n",
    "\n",
    "fig, ax = plt.subplots(3,1, figsize=(12,10))\n",
    "sns.countplot(x=\"Saving accounts\", data=df_credit, palette=\"hls\", ax=ax[0],hue=\"Risk\")\n",
    "sns.violinplot(x=\"Saving accounts\", y=\"Job\", data=df_credit, palette=\"hls\", hue = \"Risk\", ax=ax[1],split=True)\n",
    "sns.boxplot(x=\"Saving accounts\", y=\"Credit amount\", data=df_credit, ax=ax[2], hue = \"Risk\",palette=\"hls\")\n",
    "plt.show()\n"
   ]
  },
  {
   "cell_type": "markdown",
   "metadata": {
    "_cell_guid": "e692d92b-024c-4a3a-915a-51eaed3a6ee0",
    "_uuid": "0a3d67e8cff0c4da83190cd33e2b30d4192eb226"
   },
   "source": [
    "Pretty and interesting distribution..."
   ]
  },
  {
   "cell_type": "code",
   "execution_count": null,
   "metadata": {
    "_cell_guid": "dcc175f2-0c3b-44c5-8593-9abcf83ab0d8",
    "_uuid": "6328aefb8cf8d1a66dc989559896a8915949e24e",
    "collapsed": true
   },
   "outputs": [],
   "source": [
    "print(\"Values describe: \")\n",
    "print(pd.crosstab(df_credit.Purpose, df_credit.Risk))\n",
    "\n",
    "fig, ax = plt.subplots(3,1, figsize=(12,14))\n",
    "sns.countplot(x=\"Purpose\", data=df_credit, palette=\"hls\", hue = \"Risk\",orient=45, ax=ax[0])\n",
    "sns.boxplot(x=\"Purpose\", y=\"Age\", data=df_credit, palette=\"hls\", ax=ax[1], hue = \"Risk\",)\n",
    "sns.violinplot(x=\"Purpose\", y=\"Credit amount\", data=df_credit, palette=\"hls\", ax=ax[2], hue = \"Risk\",split=True)\n",
    "plt.show()"
   ]
  },
  {
   "cell_type": "markdown",
   "metadata": {
    "_cell_guid": "202f3cfa-adcb-4903-bc87-c77dbb18c151",
    "_uuid": "65b2d7708d9234540d38f9c6f1f7c2f40f527baa"
   },
   "source": [
    "Duration of the loans distribuition and density"
   ]
  },
  {
   "cell_type": "code",
   "execution_count": null,
   "metadata": {
    "_cell_guid": "d2cf1369-8f55-468f-9f95-4fec12237325",
    "_uuid": "de0f1619a2b148a438242c4a84b0c3f636b3bbfb",
    "collapsed": true
   },
   "outputs": [],
   "source": [
    "fig, ax =plt.subplots(3,1, figsize=(12,10))\n",
    "sns.countplot(x=\"Duration\", data=df_credit, palette=\"hls\", ax=ax[0], hue = \"Risk\")\n",
    "sns.pointplot(x=\"Duration\", y =\"Credit amount\",data=df_credit,ax=ax[1],hue=\"Risk\", palette=\"hls\")\n",
    "sns.distplot(df_credit[\"Duration\"], ax=ax[2])\n",
    "plt.show()"
   ]
  },
  {
   "cell_type": "markdown",
   "metadata": {
    "_cell_guid": "0a37eb7a-da07-4b52-a24e-f5c9ad9cfad1",
    "_uuid": "9b6a11a2a266a52520e580c01968ee38a71c33b3"
   },
   "source": [
    "\n",
    "Interesting, we can see that the highest duration have the high amounts. <br>\n",
    "The highest density is between [12 ~ 18 ~ 24] months<br>\n",
    "It all make sense.\n"
   ]
  },
  {
   "cell_type": "markdown",
   "metadata": {
    "_cell_guid": "40a03471-3773-4b48-8909-d063fc562290",
    "_uuid": "21ab2b41f3de8f7752b0bac5f44f735c3b7e2e5a"
   },
   "source": [
    "Total of Checking account, variable that maybe will be dropped"
   ]
  },
  {
   "cell_type": "code",
   "execution_count": null,
   "metadata": {
    "_cell_guid": "9744fbaa-07cd-4c74-b782-df20ca9425ab",
    "_uuid": "9e59691f08fc14ecbc742798e46c95199f23ed70",
    "collapsed": true
   },
   "outputs": [],
   "source": [
    "print(\"Total values of the most missing variable: \")\n",
    "print(df_credit.groupby(\"Checking account\")[\"Checking account\"].count())\n",
    "\n",
    "sns.countplot(x=\"Checking account\", data=df_credit, palette=\"hls\", hue=\"Risk\")"
   ]
  },
  {
   "cell_type": "code",
   "execution_count": null,
   "metadata": {
    "_cell_guid": "bedb8a35-d57f-4fd5-b4d9-0cbaed0349f5",
    "_uuid": "4f045823a751bd8fa2c497acbbbfb29d2012a06d",
    "collapsed": true
   },
   "outputs": [],
   "source": [
    "fig, ax = plt.subplots(2,1, figsize=(12,14))\n",
    "\n",
    "sns.boxplot(x=\"Checking account\",y=\"Credit amount\", data=df_credit,hue='Risk',palette=\"hls\", ax=ax[0])\n",
    "sns.violinplot(x=\"Checking account\", y=\"Age\", data=df_credit, palette=\"hls\", ax=ax[1], hue = \"Risk\",split=True)\n",
    "\n",
    "plt.show()"
   ]
  },
  {
   "cell_type": "markdown",
   "metadata": {
    "_cell_guid": "774c8e58-2eee-4ec5-ae9b-e1432e18c2b9",
    "_uuid": "d2879efa0b4e54e202ee51089315f9c2628183cf"
   },
   "source": [
    "Crosstab session and anothers to explore our data by another metrics a little deep"
   ]
  },
  {
   "cell_type": "code",
   "execution_count": null,
   "metadata": {
    "_cell_guid": "d684c524-8bea-4774-904f-c640f9ac78ae",
    "_uuid": "98db0c998d53f3a3932b05b89c6efb3c511c63c3",
    "collapsed": true
   },
   "outputs": [],
   "source": [
    "print(pd.crosstab(df_credit.Sex, df_credit.Job))"
   ]
  },
  {
   "cell_type": "code",
   "execution_count": null,
   "metadata": {
    "_cell_guid": "548bfb67-4160-45cd-92bf-df98fd1e013a",
    "_uuid": "3b1bb68e671a50b90a1e88545619e91dd2cd2390",
    "collapsed": true
   },
   "outputs": [],
   "source": [
    "sns.factorplot(x=\"Housing\",y=\"Job\",data=df_credit,kind=\"violin\",size=6,hue=\"Risk\", palette=\"hls\",split=True)\n",
    "plt.show()"
   ]
  },
  {
   "cell_type": "code",
   "execution_count": null,
   "metadata": {
    "_cell_guid": "9adcbb1f-ea69-41f6-b067-e0aaaf249d37",
    "_uuid": "594cd815754f297e11b53cbeec840f15f19e6061",
    "collapsed": true
   },
   "outputs": [],
   "source": [
    "print(pd.crosstab(df_credit[\"Checking account\"],df_credit.Sex))"
   ]
  },
  {
   "cell_type": "code",
   "execution_count": null,
   "metadata": {
    "_cell_guid": "b7c5d494-0fa9-4120-ae70-131615e349eb",
    "_uuid": "d136dca334dba80df467e7b34bf8aa6e777260b3",
    "collapsed": true
   },
   "outputs": [],
   "source": [
    "print(pd.crosstab(df_credit.Purpose, df_credit.Sex))"
   ]
  },
  {
   "cell_type": "code",
   "execution_count": null,
   "metadata": {
    "_cell_guid": "6877598e-6b26-44bb-b171-4f6657c0c57b",
    "_uuid": "0b46ab68c9c3b8ada44951310ad52587737a59f2",
    "collapsed": true
   },
   "outputs": [],
   "source": [
    "print(\"Purpose : \",df_credit.Purpose.unique())\n",
    "print(\"Sex : \",df_credit.Sex.unique())\n",
    "print(\"Housing : \",df_credit.Housing.unique())\n",
    "print(\"Saving accounts : \",df_credit['Saving accounts'].unique())\n",
    "print(\"Risk : \",df_credit['Risk'].unique())\n",
    "print(\"Checking account : \",df_credit['Checking account'].unique())\n",
    "print(\"Aget_cat : \",df_credit['Age_cat'].unique())"
   ]
  },
  {
   "cell_type": "code",
   "execution_count": null,
   "metadata": {
    "_cell_guid": "40dfd684-474d-4aa6-abc5-6b4334f24ec2",
    "_uuid": "3dc447039dfe2585fecc3e800b566101872c415d",
    "collapsed": true
   },
   "outputs": [],
   "source": [
    "df_credit.Purpose.replace(('radio/TV', 'education','furniture/equipment', 'car', 'business', 'domestic appliances','repairs','vacation/others'), (0,1,2,3,4,5,6,7), inplace=True)\n",
    "\n",
    "df_credit.Sex.replace(('female','male'), (0,1), inplace=True)\n",
    "\n",
    "df_credit.Housing.replace(('own','free','rent'), (0,1,2), inplace=True)\n",
    "\n",
    "df_credit[\"Saving accounts\"].replace((str('nan'), 'little', 'quite rich', 'rich', 'moderate'), (0,1,3,4,2), inplace=True)\n",
    "\n",
    "df_credit.Risk.replace(('good', 'bad'),(0,1), inplace=True)\n",
    "\n",
    "df_credit[\"Checking account\"].replace(('little', 'moderate', 'rich'), (0,1,2), inplace=True)\n",
    "\n",
    "df_credit[\"Age_cat\"].replace(('Student', 'Young', 'Adult','Senior'), (0,1,2,3), inplace=True)"
   ]
  },
  {
   "cell_type": "markdown",
   "metadata": {
    "_cell_guid": "6513753a-97cb-4b60-b199-87611f7dd411",
    "_uuid": "d03a1fb1cc1140ca0a094bd3746dae62ebfa18d9"
   },
   "source": [
    "<h1>Looking the correlation of the data"
   ]
  },
  {
   "cell_type": "code",
   "execution_count": null,
   "metadata": {
    "_cell_guid": "ed4c5ac8-ac85-44d8-8ba3-f6d3fec8a151",
    "_uuid": "11e60e581715f44cc87edbee7ffec30fe5d3b7da",
    "collapsed": true
   },
   "outputs": [],
   "source": [
    "plt.figure(figsize=(14,12))\n",
    "sns.heatmap(df_credit.astype(float).corr(),linewidths=0.1,vmax=1.0, \n",
    "            square=True,  linecolor='white', annot=True)\n",
    "plt.show()"
   ]
  },
  {
   "cell_type": "markdown",
   "metadata": {
    "_cell_guid": "f98f6b74-20d1-4b32-a549-14b0079fd4e1",
    "_uuid": "783e1c6f2d23d827800df319ce41c9bc200c0e67"
   },
   "source": [
    "<h1>Training a model to see the posibilities of prediction using all variables that we have"
   ]
  },
  {
   "cell_type": "code",
   "execution_count": null,
   "metadata": {
    "_cell_guid": "7d5906f7-bebd-49e1-a1a5-9db82ae75e16",
    "_uuid": "32b245afaf3c349eedddfe0c106b24eede56af60",
    "collapsed": true
   },
   "outputs": [],
   "source": [
    "from sklearn.ensemble import RandomForestClassifier\n",
    "from sklearn.linear_model import LogisticRegression\n",
    "from sklearn.model_selection import train_test_split\n",
    "from sklearn.metrics import accuracy_score, confusion_matrix, classification_report\n"
   ]
  },
  {
   "cell_type": "code",
   "execution_count": null,
   "metadata": {
    "_cell_guid": "b26c32b7-2cfd-4ea7-99c4-fdf948e6a544",
    "_uuid": "2bae0275e3df58b6061bc2f7684042949f7dd890",
    "collapsed": true
   },
   "outputs": [],
   "source": [
    "#Excluding the missing columns\n",
    "del df_credit[\"Saving accounts\"]\n",
    "del df_credit[\"Checking account\"]"
   ]
  },
  {
   "cell_type": "code",
   "execution_count": null,
   "metadata": {
    "_cell_guid": "be683db1-dc4f-49f3-86fa-e17eb90c3aef",
    "_uuid": "b0eb1cac1b343143c7ff5ccff82931768167c2de",
    "collapsed": true
   },
   "outputs": [],
   "source": [
    "#Creating the X and y variables\n",
    "X = df_credit.drop('Risk', 1).values\n",
    "y = df_credit[\"Risk\"].values\n",
    "\n",
    "# Spliting X and y into train and test version\n",
    "X_train, X_test, y_train, y_test = train_test_split(X, y, test_size = 0.25, random_state=42)\n",
    "\n",
    "# Creating the classifier\n",
    "model = RandomForestClassifier(n_estimators=10, random_state=0, class_weight=\"balanced_subsample\", )\n",
    "\n",
    "# Running the fit\n",
    "model.fit(X_train, y_train)\n",
    "\n",
    "# Printing the Training Score\n",
    "print(\"Training score data: \")\n",
    "print(model.score(X_train, y_train))"
   ]
  },
  {
   "cell_type": "code",
   "execution_count": null,
   "metadata": {
    "_cell_guid": "df58e526-183d-4136-8bba-181cacd378ff",
    "_uuid": "1708146ad90c695224bff81d73e0a4b37808b3bb",
    "collapsed": true
   },
   "outputs": [],
   "source": [
    "#Testing the model \n",
    "#Predicting by X_test\n",
    "y_pred = model.predict(X_test)\n",
    "\n",
    "# Verificaar os resultados obtidos\n",
    "print(accuracy_score(y_test,y_pred))\n",
    "print(\"\\n\")\n",
    "print(confusion_matrix(y_test, y_pred))\n",
    "print(\"\\n\")\n",
    "print(classification_report(y_test, y_pred))"
   ]
  },
  {
   "cell_type": "markdown",
   "metadata": {
    "_cell_guid": "b8b0d3d4-0d56-4aba-83f4-d8d2c53c65de",
    "_uuid": "18705cc8e5c8a8d7e607a06e6f5b12d40bd5978d"
   },
   "source": [
    "Getting bad results in classification, how can I increase my model? "
   ]
  },
  {
   "cell_type": "markdown",
   "metadata": {
    "_cell_guid": "c2714ddd-9087-4c6b-baca-eed8f60c8e36",
    "_uuid": "1f5de10f8b6e287a0f38d15fcb5cbbd1dc66130a"
   },
   "source": [
    "I will try a new approach, because we have a unbalanced data.... Let me know what's wrong, how can I do it at the correct way?"
   ]
  },
  {
   "cell_type": "code",
   "execution_count": null,
   "metadata": {
    "_cell_guid": "6e15774a-0b93-41ae-a395-6fde3c1ebd3a",
    "_uuid": "48c5b40e53ad8ed9e6fe5493802445996e597869",
    "collapsed": true
   },
   "outputs": [],
   "source": [
    "from sklearn.utils import resample\n",
    "from sklearn.metrics import roc_curve"
   ]
  },
  {
   "cell_type": "code",
   "execution_count": null,
   "metadata": {
    "_cell_guid": "f85f52aa-7cda-4e44-b413-88db921b251b",
    "_uuid": "fd6cb2e7a9848530fad87181b9e675411d3ee174",
    "collapsed": true
   },
   "outputs": [],
   "source": [
    "# Spliting the data in test and train\n",
    "df_test, df_train = train_test_split(df_credit, test_size = 0.7, random_state=42)"
   ]
  },
  {
   "cell_type": "code",
   "execution_count": null,
   "metadata": {
    "_cell_guid": "ea039fd4-9c05-4517-af65-c28e2cf38b71",
    "_uuid": "040a3d3f04b7a7ad157fb454047dd08a5bfd108d",
    "collapsed": true
   },
   "outputs": [],
   "source": [
    "#train_high = df_train[df_train[\"Risk\"] == 0] \n",
    "#train_lower = df_train[df_train[\"Risk\"] == 1]\n",
    "\n",
    "#train_resample = resample(train_high, replace=False, n_samples=len(train_lower), random_state=123)\n",
    "\n",
    "#train_sample = pd.concat([train_resample, train_lower])\n",
    "#train_sample.Risk.value_counts()"
   ]
  },
  {
   "cell_type": "code",
   "execution_count": null,
   "metadata": {
    "_cell_guid": "ca1d8e6f-453b-46a5-a6b8-f5c529d305cc",
    "_uuid": "14e186727987a951df2e9435eee3ae4bc66971f4",
    "collapsed": true
   },
   "outputs": [],
   "source": [
    "# handling with the variables Train and test\n",
    "X = df_train.drop('Risk', 1).values\n",
    "y = df_train[\"Risk\"].values\n",
    "\n",
    "X_test = df_test.drop('Risk', 1).values\n",
    "y_test = df_test[\"Risk\"].values"
   ]
  },
  {
   "cell_type": "code",
   "execution_count": null,
   "metadata": {
    "_cell_guid": "3c980a9e-7cac-4d5b-b0e6-2dde790bb5e4",
    "_uuid": "d2b3aded7d3373de62dbe57e4c1e1f86870a202c",
    "collapsed": true
   },
   "outputs": [],
   "source": [
    "# Criando o classificador logreg\n",
    "rf = RandomForestClassifier(n_estimators=5, random_state=0)\n",
    "\n",
    "# Fitting with train data\n",
    "rf.fit(X_train, y_train)"
   ]
  },
  {
   "cell_type": "code",
   "execution_count": null,
   "metadata": {
    "_cell_guid": "797436e3-1d4b-4748-860d-efb282a1d0ce",
    "_uuid": "8cf623e40c3615367b5ed12bc8fdcb5b825ca58d",
    "collapsed": true
   },
   "outputs": [],
   "source": [
    "# Printing the Training Score\n",
    "print(\"Training score data: \")\n",
    "print(model.score(X_train, y_train))"
   ]
  },
  {
   "cell_type": "markdown",
   "metadata": {
    "_cell_guid": "959ccfa6-65a3-4356-93ef-aa58365ac43e",
    "_uuid": "f2b1b25db4b97c2fa5d849acfaa263c11505a15e"
   },
   "source": [
    "How can I increase this models? What's the correctly way to evaluate my models? What's the best technique to test models?"
   ]
  },
  {
   "cell_type": "markdown",
   "metadata": {
    "_cell_guid": "ccb79a0d-94c7-4fb4-a73c-3b6500ca7f92",
    "_uuid": "71f7b69ad56e46bc3d4070a832f14b44f4711395",
    "collapsed": true
   },
   "source": [
    "\n",
    "\n",
    "<h2>Please, let me know how can I increase my prediction and if I can do something of another way! Feel free to comment below.\n"
   ]
  }
 ],
 "metadata": {
  "kernelspec": {
   "display_name": "Python 3",
   "language": "python",
   "name": "python3"
  },
  "language_info": {
   "codemirror_mode": {
    "name": "ipython",
    "version": 3
   },
   "file_extension": ".py",
   "mimetype": "text/x-python",
   "name": "python",
   "nbconvert_exporter": "python",
   "pygments_lexer": "ipython3",
   "version": "3.6.3"
  },
  "toc": {
   "nav_menu": {},
   "number_sections": true,
   "sideBar": true,
   "skip_h1_title": false,
   "toc_cell": false,
   "toc_position": {},
   "toc_section_display": "block",
   "toc_window_display": false
  }
 },
 "nbformat": 4,
 "nbformat_minor": 1
}
